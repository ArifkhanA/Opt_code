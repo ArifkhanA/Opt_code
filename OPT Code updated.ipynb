{
 "cells": [
  {
   "cell_type": "code",
   "execution_count": 1,
   "id": "601c1f4f",
   "metadata": {},
   "outputs": [],
   "source": [
    "#import packages\n",
    "\n",
    "import numpy as np\n",
    "import pandas as pd\n",
    "from datetime import date, timedelta\n",
    "\n",
    "pd.set_option('display.max_columns', 500)\n",
    "pd.set_option('display.max_rows', 500)\n",
    "\n",
    "filename=\"914\""
   ]
  },
  {
   "cell_type": "code",
   "execution_count": 2,
   "id": "32469eba",
   "metadata": {},
   "outputs": [],
   "source": [
    "#Input and Output Path setting\n",
    "\n",
    "input_path = \"/Users/condenast/Desktop/opt_files/inputfile/\"+str(filename)+\".xlsx\"\n",
    "\n",
    "output_path = \"/Users/condenast/Desktop/opt_files/outputfile/Op_\"+str(filename)+\".xlsx\""
   ]
  },
  {
   "cell_type": "code",
   "execution_count": 3,
   "id": "1b8de2b8",
   "metadata": {},
   "outputs": [
    {
     "data": {
      "text/plain": [
       "(258, 7)"
      ]
     },
     "execution_count": 3,
     "metadata": {},
     "output_type": "execute_result"
    }
   ],
   "source": [
    "#Input path\n",
    "\n",
    "optfile=pd.read_excel(input_path)\n",
    "optfile.shape"
   ]
  },
  {
   "cell_type": "code",
   "execution_count": 4,
   "id": "daa86c14",
   "metadata": {},
   "outputs": [
    {
     "name": "stderr",
     "output_type": "stream",
     "text": [
      "/Users/condenast/opt/anaconda3/lib/python3.8/site-packages/pandas/core/indexing.py:1787: SettingWithCopyWarning: \n",
      "A value is trying to be set on a copy of a slice from a DataFrame.\n",
      "Try using .loc[row_indexer,col_indexer] = value instead\n",
      "\n",
      "See the caveats in the documentation: https://pandas.pydata.org/pandas-docs/stable/user_guide/indexing.html#returning-a-view-versus-a-copy\n",
      "  self._setitem_single_column(loc, val, pi)\n"
     ]
    }
   ],
   "source": [
    "#Data filterations\n",
    "\n",
    "optfile['Estimated Cost Per Ticket LNR']= optfile['Estimated Cost Per Ticket LNR'].replace('[\\$,]', '', regex=True).astype(float)\n",
    "\n",
    "x1 = date.today()\n",
    "\n",
    "today=x1.strftime('%-m/%-d/%Y')\n",
    "\n",
    "x2 = date.today()+timedelta(1)\n",
    "\n",
    "tmr=x2.strftime('%-m/%-d/%Y')\n",
    "\n",
    "x=optfile[\"CTR\"]<\"1.00%\"\n",
    "\n",
    "y=optfile[\"Estimated Tickets Sold LNR\"]==\"0\" \n",
    "\n",
    "z=optfile[\"Estimated Cost Per Ticket LNR\"]>12.00\n",
    "\n",
    "ti=pd.concat([optfile[x], optfile[y], optfile[z]]).drop_duplicates()\n",
    "\n",
    "#st= ti[(ti[\"Campaign Start Time (Dimension)\"] != today) & (ti[\"Campaign Stop Time (Dimension)\"]!=today)]\n",
    "\n",
    "st = ti[(ti[\"Campaign Start Time (Dimension)\"] != today) & (ti[\"Campaign Stop Time (Dimension)\"]!=today) & (ti[\"Campaign Stop Time (Dimension)\"] != tmr)]\n",
    "\n",
    "st.loc[:, ('Campaign Start Time (Dimension)','Campaign Stop Time (Dimension)')]=st.loc[:, ('Campaign Start Time (Dimension)','Campaign Stop Time (Dimension)')].astype('datetime64[ns]');\n",
    "\n",
    "# st['Campaign Start Time (Dimension)','Campaign Stop Time (Dimension)'] = pd.to_datetime(st['Campaign Start Time (Dimension)','Campaign Stop Time (Dimension)']).dt.date\n",
    "\n",
    "\n"
   ]
  },
  {
   "cell_type": "code",
   "execution_count": 5,
   "id": "a4c2bd0b",
   "metadata": {},
   "outputs": [
    {
     "data": {
      "text/plain": [
       "(188, 7)"
      ]
     },
     "execution_count": 5,
     "metadata": {},
     "output_type": "execute_result"
    }
   ],
   "source": [
    "#Output path\n",
    "\n",
    "op=st.sort_values(by=['Campaign Stop Time (Dimension)','Estimated Tickets Sold LNR','Campaign'])\n",
    "\n",
    "op.loc[:, ('Campaign Start Time (Dimension)','Campaign Stop Time (Dimension)')]=op.loc[:, ('Campaign Start Time (Dimension)','Campaign Stop Time (Dimension)')].astype('str');\n",
    "\n",
    "op.to_excel(output_path,index=False)\n",
    "\n",
    "op.shape"
   ]
  },
  {
   "cell_type": "code",
   "execution_count": null,
   "id": "8302f619",
   "metadata": {},
   "outputs": [],
   "source": []
  }
 ],
 "metadata": {
  "kernelspec": {
   "display_name": "Python 3",
   "language": "python",
   "name": "python3"
  },
  "language_info": {
   "codemirror_mode": {
    "name": "ipython",
    "version": 3
   },
   "file_extension": ".py",
   "mimetype": "text/x-python",
   "name": "python",
   "nbconvert_exporter": "python",
   "pygments_lexer": "ipython3",
   "version": "3.8.8"
  }
 },
 "nbformat": 4,
 "nbformat_minor": 5
}
