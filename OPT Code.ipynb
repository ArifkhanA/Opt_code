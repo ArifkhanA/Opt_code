{
 "cells": [
  {
   "cell_type": "code",
   "execution_count": 1,
   "id": "601c1f4f",
   "metadata": {},
   "outputs": [],
   "source": [
    "#import packages\n",
    "\n",
    "import numpy as np\n",
    "import pandas as pd\n",
    "from datetime import date\n",
    "\n",
    "pd.set_option('display.max_columns', 500)\n",
    "pd.set_option('display.max_rows', 500)\n",
    "\n",
    "filename=\"727\""
   ]
  },
  {
   "cell_type": "code",
   "execution_count": 2,
   "id": "44f57889",
   "metadata": {},
   "outputs": [],
   "source": [
    "#Input and Output Path setting\n",
    "\n",
    "input_path = \"/Users/condenast/Desktop/opt_files/inputfile/\"+str(filename)+\".xlsx\"\n",
    "\n",
    "output_path = \"/Users/condenast/Desktop/opt_files/outputfile/Op_\"+str(filename)+\".xlsx\""
   ]
  },
  {
   "cell_type": "code",
   "execution_count": 3,
   "id": "1b8de2b8",
   "metadata": {},
   "outputs": [
    {
     "data": {
      "text/plain": [
       "(318, 7)"
      ]
     },
     "execution_count": 3,
     "metadata": {},
     "output_type": "execute_result"
    }
   ],
   "source": [
    "#Input path\n",
    "\n",
    "optfile=pd.read_excel(input_path)\n",
    "optfile.shape"
   ]
  },
  {
   "cell_type": "code",
   "execution_count": 4,
   "id": "daa86c14",
   "metadata": {},
   "outputs": [],
   "source": [
    "#Data filterations\n",
    "\n",
    "optfile['Estimated Cost Per Ticket LNR']= optfile['Estimated Cost Per Ticket LNR'].replace('[\\$,]', '', regex=True).astype(float)\n",
    "\n",
    "x1 = date.today()\n",
    "\n",
    "today=x1.strftime('%-m/%-d/%Y')\n",
    "\n",
    "x=optfile[\"CTR\"]<\"1.00%\"\n",
    "\n",
    "y=optfile[\"Estimated Tickets Sold LNR\"]==\"0\" \n",
    "\n",
    "z=optfile[\"Estimated Cost Per Ticket LNR\"]>12.00\n",
    "\n",
    "ti=pd.concat([optfile[x], optfile[y], optfile[z]]).drop_duplicates()\n",
    "\n",
    "st= ti[(ti[\"Campaign Start Time (Dimension)\"] != today) & (ti[\"Campaign Stop Time (Dimension)\"]!=today) & (ti["Campaign Stop Time (Dimension)"] != tmr)]\n"
   ]
  },
  {
   "cell_type": "code",
   "execution_count": 5,
   "id": "a4c2bd0b",
   "metadata": {},
   "outputs": [
    {
     "data": {
      "text/plain": [
       "(252, 7)"
      ]
     },
     "execution_count": 5,
     "metadata": {},
     "output_type": "execute_result"
    }
   ],
   "source": [
    "#Output path\n",
    "\n",
    "st.sort_values(by=['Campaign Stop Time (Dimension)','Campaign']).to_excel(output_path,index=False)\n",
    "\n",
    "st.shape\n"
   ]
  },
  {
   "cell_type": "code",
   "execution_count": null,
   "id": "cc16fe97",
   "metadata": {},
   "outputs": [],
   "source": []
  }
 ],
 "metadata": {
  "kernelspec": {
   "display_name": "Python 3",
   "language": "python",
   "name": "python3"
  },
  "language_info": {
   "codemirror_mode": {
    "name": "ipython",
    "version": 3
   },
   "file_extension": ".py",
   "mimetype": "text/x-python",
   "name": "python",
   "nbconvert_exporter": "python",
   "pygments_lexer": "ipython3",
   "version": "3.8.8"
  }
 },
 "nbformat": 4,
 "nbformat_minor": 5
}
